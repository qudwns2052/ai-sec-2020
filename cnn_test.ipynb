{
  "nbformat": 4,
  "nbformat_minor": 0,
  "metadata": {
    "colab": {
      "name": "cnn-test.ipynb",
      "provenance": [],
      "collapsed_sections": [],
      "authorship_tag": "ABX9TyO7FJ0DWymtQb4hGTLgmRHI",
      "include_colab_link": true
    },
    "kernelspec": {
      "name": "python3",
      "display_name": "Python 3"
    },
    "accelerator": "GPU"
  },
  "cells": [
    {
      "cell_type": "markdown",
      "metadata": {
        "id": "view-in-github",
        "colab_type": "text"
      },
      "source": [
        "<a href=\"https://colab.research.google.com/github/qudwns2052/ai-sec-2020/blob/master/cnn_test.ipynb\" target=\"_parent\"><img src=\"https://colab.research.google.com/assets/colab-badge.svg\" alt=\"Open In Colab\"/></a>"
      ]
    },
    {
      "cell_type": "code",
      "metadata": {
        "id": "C_4-4WuyPkd1",
        "colab_type": "code",
        "colab": {}
      },
      "source": [
        "import tensorflow as tf\n",
        "import keras\n",
        "\n",
        "from keras.models import Sequential\n",
        "from keras.layers import Conv2D, Dense, Flatten, MaxPooling2D, AveragePooling2D\n",
        "from keras.optimizers import Adam\n",
        "from keras.losses import sparse_categorical_crossentropy as scc\n",
        "from keras.datasets import cifar10\n",
        "\n",
        "import numpy as np\n",
        "import matplotlib.pyplot as plt\n",
        "\n"
      ],
      "execution_count": 1,
      "outputs": []
    },
    {
      "cell_type": "code",
      "metadata": {
        "id": "zbtBbfN1Qr3N",
        "colab_type": "code",
        "colab": {}
      },
      "source": [
        "def build_model(width, height, channel) :\n",
        "  model = Sequential()\n",
        "\n",
        "  model.add(Conv2D(\n",
        "      filters = 16,\n",
        "      kernel_size = (3, 3),\n",
        "      padding = 'same',\n",
        "      activation = 'relu',\n",
        "      input_shape = (width, height, channel)\n",
        "  ))\n",
        "  model.add(Conv2D(\n",
        "      filters = 16,\n",
        "      kernel_size = (3, 3),\n",
        "      padding = 'same',\n",
        "      activation = 'relu',\n",
        "  ))\n",
        "  model.add(MaxPooling2D(\n",
        "      pool_size=(2,2),\n",
        "      padding='same'\n",
        "  ))\n",
        "\n",
        "  model.add(Conv2D(\n",
        "      filters = 32,\n",
        "      kernel_size = (3, 3),\n",
        "      padding = 'same',\n",
        "      activation = 'relu',\n",
        "  ))\n",
        "  model.add(MaxPooling2D(\n",
        "      pool_size=(2,2),\n",
        "      padding='same'\n",
        "  ))\n",
        "\n",
        "  model.add(Conv2D(\n",
        "      filters = 64,\n",
        "      kernel_size = (3, 3),\n",
        "      padding = 'same',\n",
        "      activation = 'relu',\n",
        "  ))\n",
        "  model.add(AveragePooling2D(\n",
        "      pool_size=(8,8),\n",
        "      padding='same'\n",
        "  ))\n",
        "\n",
        "  model.add(Flatten())\n",
        "  model.add(Dense(\n",
        "      units=640,\n",
        "      activation='relu'\n",
        "  ))\n",
        "  model.add(Dense(\n",
        "      units=10,\n",
        "      activation='softmax'\n",
        "  ))\n",
        "\n",
        "  opt = Adam(learning_rate=0.001)\n",
        "  model.compile(\n",
        "      optimizer=opt,\n",
        "      loss=scc,\n",
        "      metrics=['accuracy']\n",
        "  )\n",
        "\n",
        "  return model\n"
      ],
      "execution_count": 2,
      "outputs": []
    },
    {
      "cell_type": "code",
      "metadata": {
        "id": "Ld0c5jPqSzVH",
        "colab_type": "code",
        "colab": {
          "base_uri": "https://localhost:8080/",
          "height": 785
        },
        "outputId": "860f6101-cc6d-462a-8677-10660505fc08"
      },
      "source": [
        "def data_preprocessing() :\n",
        "  (X_train, Y_train), (X_test, Y_test) = cifar10.load_data()\n",
        "\n",
        "  mean=[0,0,0]\n",
        "  std=[0,0,0]\n",
        "  newX_train = np.ones(X_train.shape)\n",
        "  newX_test = np.ones(X_test.shape)\n",
        "\n",
        "  for i in range(3) :\n",
        "    mean[i] = np.mean(X_train[:,:,:,i])\n",
        "    std[i] = np.std(X_train[:,:,:,i])\n",
        "\n",
        "  \n",
        "  for i in range(3) :\n",
        "    newX_train[:,:,:,i] = X_train[:,:,:,i] - mean[i]\n",
        "    newX_train[:,:,:,i] = newX_train[:,:,:,i] / std[i]\n",
        "    newX_test[:,:,:,i] = X_test[:,:,:,i] - mean[i]\n",
        "    newX_test[:,:,:,i] = newX_test[:,:,:,i] / std[i]\n",
        "  \n",
        "  X_train = newX_train\n",
        "  X_test = newX_test\n",
        "\n",
        "  return (X_train, Y_train), (X_test, Y_test)\n",
        "\n",
        "\n",
        "(X_train, Y_train), (X_test, Y_test) = cifar10.load_data()\n",
        "\n",
        "model = build_model(X_train.shape[1], X_train.shape[2], X_train.shape[3])\n",
        "\n",
        "hist = model.fit(\n",
        "    X_train, \n",
        "    Y_train,\n",
        "    batch_size = 32,\n",
        "    epochs = 20,\n",
        "    verbose = 1,\n",
        "    shuffle=True,\n",
        "    validation_split=0.1\n",
        ")\n",
        "\n",
        "model.evaluate(\n",
        "    X_test,\n",
        "    Y_test,\n",
        "    verbose = 1\n",
        ")"
      ],
      "execution_count": 3,
      "outputs": [
        {
          "output_type": "stream",
          "text": [
            "Downloading data from https://www.cs.toronto.edu/~kriz/cifar-10-python.tar.gz\n",
            "170500096/170498071 [==============================] - 7s 0us/step\n",
            "Epoch 1/20\n",
            "1407/1407 [==============================] - 5s 3ms/step - loss: 1.5869 - accuracy: 0.4262 - val_loss: 1.3518 - val_accuracy: 0.5186\n",
            "Epoch 2/20\n",
            "1407/1407 [==============================] - 5s 3ms/step - loss: 1.1913 - accuracy: 0.5731 - val_loss: 1.0944 - val_accuracy: 0.6070\n",
            "Epoch 3/20\n",
            "1407/1407 [==============================] - 5s 3ms/step - loss: 1.0131 - accuracy: 0.6387 - val_loss: 0.9597 - val_accuracy: 0.6620\n",
            "Epoch 4/20\n",
            "1407/1407 [==============================] - 5s 3ms/step - loss: 0.9197 - accuracy: 0.6746 - val_loss: 0.9134 - val_accuracy: 0.6772\n",
            "Epoch 5/20\n",
            "1407/1407 [==============================] - 4s 3ms/step - loss: 0.8468 - accuracy: 0.7008 - val_loss: 0.8643 - val_accuracy: 0.6918\n",
            "Epoch 6/20\n",
            "1407/1407 [==============================] - 5s 3ms/step - loss: 0.7879 - accuracy: 0.7233 - val_loss: 0.8533 - val_accuracy: 0.7028\n",
            "Epoch 7/20\n",
            "1407/1407 [==============================] - 4s 3ms/step - loss: 0.7380 - accuracy: 0.7374 - val_loss: 0.7916 - val_accuracy: 0.7190\n",
            "Epoch 8/20\n",
            "1407/1407 [==============================] - 4s 3ms/step - loss: 0.7022 - accuracy: 0.7534 - val_loss: 0.7942 - val_accuracy: 0.7250\n",
            "Epoch 9/20\n",
            "1407/1407 [==============================] - 4s 3ms/step - loss: 0.6644 - accuracy: 0.7658 - val_loss: 0.8768 - val_accuracy: 0.7134\n",
            "Epoch 10/20\n",
            "1407/1407 [==============================] - 4s 3ms/step - loss: 0.6353 - accuracy: 0.7758 - val_loss: 0.8035 - val_accuracy: 0.7258\n",
            "Epoch 11/20\n",
            "1407/1407 [==============================] - 4s 3ms/step - loss: 0.6040 - accuracy: 0.7863 - val_loss: 0.8073 - val_accuracy: 0.7308\n",
            "Epoch 12/20\n",
            "1407/1407 [==============================] - 4s 3ms/step - loss: 0.5819 - accuracy: 0.7929 - val_loss: 0.8051 - val_accuracy: 0.7256\n",
            "Epoch 13/20\n",
            "1407/1407 [==============================] - 4s 3ms/step - loss: 0.5544 - accuracy: 0.8051 - val_loss: 0.8718 - val_accuracy: 0.7140\n",
            "Epoch 14/20\n",
            "1407/1407 [==============================] - 4s 3ms/step - loss: 0.5343 - accuracy: 0.8114 - val_loss: 0.8064 - val_accuracy: 0.7330\n",
            "Epoch 15/20\n",
            "1407/1407 [==============================] - 4s 3ms/step - loss: 0.5109 - accuracy: 0.8168 - val_loss: 0.8241 - val_accuracy: 0.7306\n",
            "Epoch 16/20\n",
            "1407/1407 [==============================] - 4s 3ms/step - loss: 0.4929 - accuracy: 0.8252 - val_loss: 0.8064 - val_accuracy: 0.7464\n",
            "Epoch 17/20\n",
            "1407/1407 [==============================] - 4s 3ms/step - loss: 0.4781 - accuracy: 0.8293 - val_loss: 0.8501 - val_accuracy: 0.7390\n",
            "Epoch 18/20\n",
            "1407/1407 [==============================] - 4s 3ms/step - loss: 0.4578 - accuracy: 0.8369 - val_loss: 0.8892 - val_accuracy: 0.7354\n",
            "Epoch 19/20\n",
            "1407/1407 [==============================] - 4s 3ms/step - loss: 0.4407 - accuracy: 0.8435 - val_loss: 0.8925 - val_accuracy: 0.7238\n",
            "Epoch 20/20\n",
            "1407/1407 [==============================] - 4s 3ms/step - loss: 0.4271 - accuracy: 0.8477 - val_loss: 0.8836 - val_accuracy: 0.7386\n",
            "313/313 [==============================] - 1s 2ms/step - loss: 0.9202 - accuracy: 0.7290\n"
          ],
          "name": "stdout"
        },
        {
          "output_type": "execute_result",
          "data": {
            "text/plain": [
              "[0.9202105402946472, 0.7289999723434448]"
            ]
          },
          "metadata": {
            "tags": []
          },
          "execution_count": 3
        }
      ]
    },
    {
      "cell_type": "code",
      "metadata": {
        "id": "rV9f3J_ocbHo",
        "colab_type": "code",
        "colab": {
          "base_uri": "https://localhost:8080/",
          "height": 545
        },
        "outputId": "64f03d59-1b74-4cb7-8bf0-a98f53747519"
      },
      "source": [
        "plt.plot(hist.history['loss'])\n",
        "plt.title(\"loss history\")\n",
        "plt.show()\n",
        "\n",
        "plt.plot(hist.history['accuracy'])\n",
        "plt.title(\"accuracy history\")\n",
        "plt.show()"
      ],
      "execution_count": 5,
      "outputs": [
        {
          "output_type": "display_data",
          "data": {
            "image/png": "[encoded data removed]",
            "text/plain": [
              "<Figure size 432x288 with 1 Axes>"
            ]
          },
          "metadata": {
            "tags": [],
            "needs_background": "light"
          }
        },
        {
          "output_type": "display_data",
          "data": {
            "image/png": "[encoded data removed]",
            "text/plain": [
              "<Figure size 432x288 with 1 Axes>"
            ]
          },
          "metadata": {
            "tags": [],
            "needs_background": "light"
          }
        }
      ]
    }
  ]
}